{
  "nbformat": 4,
  "nbformat_minor": 0,
  "metadata": {
    "colab": {
      "provenance": [],
      "authorship_tag": "ABX9TyOEwEZKWqKUYnbPY0QcIVNQ",
      "include_colab_link": true
    },
    "kernelspec": {
      "name": "python3",
      "display_name": "Python 3"
    },
    "language_info": {
      "name": "python"
    }
  },
  "cells": [
    {
      "cell_type": "markdown",
      "metadata": {
        "id": "view-in-github",
        "colab_type": "text"
      },
      "source": [
        "<a href=\"https://colab.research.google.com/github/mn22abk/DSProjectHamza2024/blob/main/DSPHamzafile2.ipynb\" target=\"_parent\"><img src=\"https://colab.research.google.com/assets/colab-badge.svg\" alt=\"Open In Colab\"/></a>"
      ]
    },
    {
      "cell_type": "code",
      "execution_count": 5,
      "metadata": {
        "id": "6MpEN2hrRg0k"
      },
      "outputs": [],
      "source": [
        "import pandas as pd\n",
        "import matplotlib.pyplot as plt\n",
        "import seaborn as sns\n"
      ]
    },
    {
      "cell_type": "code",
      "source": [
        "# Load the dataset\n",
        "df = pd.read_csv(\"securities.csv\")"
      ],
      "metadata": {
        "id": "vr1L7P_fR8aw"
      },
      "execution_count": 7,
      "outputs": []
    },
    {
      "cell_type": "code",
      "source": [
        "# Display the first few rows of the DaraFrame\n",
        "print (\" First few rows of the DataFrame:\")\n",
        "print (df.head())"
      ],
      "metadata": {
        "id": "ICLP2SFwR8dr",
        "colab": {
          "base_uri": "https://localhost:8080/"
        },
        "outputId": "20cd4a4c-b2eb-417a-b364-89adfb14d262"
      },
      "execution_count": 12,
      "outputs": [
        {
          "output_type": "stream",
          "name": "stdout",
          "text": [
            " First few rows of the DataFrame:\n",
            "  Ticker symbol             Security SEC filings             GICS Sector  \\\n",
            "0           MMM           3M Company     reports             Industrials   \n",
            "1           ABT  Abbott Laboratories     reports             Health Care   \n",
            "2          ABBV               AbbVie     reports             Health Care   \n",
            "3           ACN        Accenture plc     reports  Information Technology   \n",
            "4          ATVI  Activision Blizzard     reports  Information Technology   \n",
            "\n",
            "                GICS Sub Industry   Address of Headquarters Date first added  \\\n",
            "0        Industrial Conglomerates       St. Paul, Minnesota              NaN   \n",
            "1           Health Care Equipment   North Chicago, Illinois       1964-03-31   \n",
            "2                 Pharmaceuticals   North Chicago, Illinois       2012-12-31   \n",
            "3  IT Consulting & Other Services           Dublin, Ireland       2011-07-06   \n",
            "4     Home Entertainment Software  Santa Monica, California       2015-08-31   \n",
            "\n",
            "       CIK  \n",
            "0    66740  \n",
            "1     1800  \n",
            "2  1551152  \n",
            "3  1467373  \n",
            "4   718877  \n"
          ]
        }
      ]
    },
    {
      "cell_type": "code",
      "source": [
        "# Descriptive Statistics\n",
        "print (\"/nDescriptive Statistics:\")\n",
        "print (df.describe())"
      ],
      "metadata": {
        "id": "zDV9SQ3gR8gT",
        "colab": {
          "base_uri": "https://localhost:8080/"
        },
        "outputId": "1e7d70f2-b75e-405b-9235-e744457946f3"
      },
      "execution_count": 17,
      "outputs": [
        {
          "output_type": "stream",
          "name": "stdout",
          "text": [
            "/nDescriptive Statistics:\n",
            "                CIK\n",
            "count  5.050000e+02\n",
            "mean   7.074490e+05\n",
            "std    5.144375e+05\n",
            "min    1.800000e+03\n",
            "25%    8.631200e+04\n",
            "50%    8.310010e+05\n",
            "75%    1.075531e+06\n",
            "max    1.659166e+06\n"
          ]
        }
      ]
    },
    {
      "cell_type": "code",
      "source": [],
      "metadata": {
        "id": "5UQ5-iS2w8pT"
      },
      "execution_count": null,
      "outputs": []
    }
  ]
}