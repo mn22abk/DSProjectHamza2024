{
  "nbformat": 4,
  "nbformat_minor": 0,
  "metadata": {
    "colab": {
      "provenance": [],
      "mount_file_id": "1-WKKtBW49OJxCDYSRPmSx-W1rUz8r4qk",
      "authorship_tag": "ABX9TyPr7wyzqIoppKL00imzcOMV",
      "include_colab_link": true
    },
    "kernelspec": {
      "name": "python3",
      "display_name": "Python 3"
    },
    "language_info": {
      "name": "python"
    }
  },
  "cells": [
    {
      "cell_type": "markdown",
      "metadata": {
        "id": "view-in-github",
        "colab_type": "text"
      },
      "source": [
        "<a href=\"https://colab.research.google.com/github/mn22abk/DSProjectHamza2024/blob/main/DSPHamzafile2.ipynb\" target=\"_parent\"><img src=\"https://colab.research.google.com/assets/colab-badge.svg\" alt=\"Open In Colab\"/></a>"
      ]
    },
    {
      "cell_type": "code",
      "execution_count": 1,
      "metadata": {
        "id": "6MpEN2hrRg0k"
      },
      "outputs": [],
      "source": [
        "import pandas as pd\n",
        "import matplotlib.pyplot as plt\n",
        "import seaborn as sns\n"
      ]
    },
    {
      "cell_type": "code",
      "source": [
        "# Load the dataset\n",
        "df = pd.read_csv(\"securities.csv\")"
      ],
      "metadata": {
        "id": "UQVSYD1KR8LS"
      },
      "execution_count": 3,
      "outputs": []
    },
    {
      "cell_type": "code",
      "source": [
        "# Display the first few rows of the dataframe\n",
        "print (\"First few rows of the dataframe:\")\n",
        "print (df.head())\n"
      ],
      "metadata": {
        "colab": {
          "base_uri": "https://localhost:8080/"
        },
        "id": "UgabBgOvR8X-",
        "outputId": "87a14080-2628-47d9-d0a3-4f5de7f9fddb"
      },
      "execution_count": 4,
      "outputs": [
        {
          "output_type": "stream",
          "name": "stdout",
          "text": [
            "First few rows of the dataframe:\n",
            "  Ticker symbol             Security SEC filings             GICS Sector  \\\n",
            "0           MMM           3M Company     reports             Industrials   \n",
            "1           ABT  Abbott Laboratories     reports             Health Care   \n",
            "2          ABBV               AbbVie     reports             Health Care   \n",
            "3           ACN        Accenture plc     reports  Information Technology   \n",
            "4          ATVI  Activision Blizzard     reports  Information Technology   \n",
            "\n",
            "                GICS Sub Industry   Address of Headquarters Date first added  \\\n",
            "0        Industrial Conglomerates       St. Paul, Minnesota              NaN   \n",
            "1           Health Care Equipment   North Chicago, Illinois       1964-03-31   \n",
            "2                 Pharmaceuticals   North Chicago, Illinois       2012-12-31   \n",
            "3  IT Consulting & Other Services           Dublin, Ireland       2011-07-06   \n",
            "4     Home Entertainment Software  Santa Monica, California       2015-08-31   \n",
            "\n",
            "       CIK  \n",
            "0    66740  \n",
            "1     1800  \n",
            "2  1551152  \n",
            "3  1467373  \n",
            "4   718877  \n"
          ]
        }
      ]
    },
    {
      "cell_type": "code",
      "source": [],
      "metadata": {
        "id": "vr1L7P_fR8aw"
      },
      "execution_count": null,
      "outputs": []
    },
    {
      "cell_type": "code",
      "source": [],
      "metadata": {
        "id": "ICLP2SFwR8dr"
      },
      "execution_count": null,
      "outputs": []
    },
    {
      "cell_type": "code",
      "source": [],
      "metadata": {
        "id": "zDV9SQ3gR8gT"
      },
      "execution_count": null,
      "outputs": []
    },
    {
      "cell_type": "code",
      "source": [],
      "metadata": {
        "id": "LNKq38J7R8ju"
      },
      "execution_count": null,
      "outputs": []
    }
  ]
}