{
  "nbformat": 4,
  "nbformat_minor": 0,
  "metadata": {
    "colab": {
      "provenance": [],
      "include_colab_link": true
    },
    "kernelspec": {
      "name": "python3",
      "display_name": "Python 3"
    },
    "language_info": {
      "name": "python"
    }
  },
  "cells": [
    {
      "cell_type": "markdown",
      "metadata": {
        "id": "view-in-github",
        "colab_type": "text"
      },
      "source": [
        "<a href=\"https://colab.research.google.com/github/mn22abk/DSProjectHamza2024/blob/main/DSProjectfile1Hamza.ipynb\" target=\"_parent\"><img src=\"https://colab.research.google.com/assets/colab-badge.svg\" alt=\"Open In Colab\"/></a>"
      ]
    },
    {
      "cell_type": "code",
      "execution_count": 1,
      "metadata": {
        "id": "s_GLmqJG-Mr_"
      },
      "outputs": [],
      "source": [
        "import numpy as np\n",
        "import pandas as pd\n",
        "import matplotlib.pyplot as plt\n",
        "import seaborn as sns\n",
        "from sklearn.model_selection import train_test_split\n",
        "from sklearn.linear_model import LinearRegression\n",
        "from sklearn.ensemble import RandomForestRegressor\n",
        "from sklearn.metrics import mean_squared_error\n",
        "\n",
        "\n",
        "\n"
      ]
    },
    {
      "cell_type": "code",
      "source": [
        "from google.colab import drive\n",
        "drive.mount('/content/drive')"
      ],
      "metadata": {
        "colab": {
          "base_uri": "https://localhost:8080/"
        },
        "id": "seTQ1TP_wPA6",
        "outputId": "a1f90e90-49a9-4399-d743-60c41aac5fc7"
      },
      "execution_count": 7,
      "outputs": [
        {
          "output_type": "stream",
          "name": "stdout",
          "text": [
            "Drive already mounted at /content/drive; to attempt to forcibly remount, call drive.mount(\"/content/drive\", force_remount=True).\n"
          ]
        }
      ]
    },
    {
      "cell_type": "code",
      "source": [
        "def load_data(file_path):\n",
        "  \"\"\"Load data from CSV file.\"\"\"\n",
        "  return pd.read_csv(file_path)"
      ],
      "metadata": {
        "id": "ZEuzimpvxr-Z"
      },
      "execution_count": null,
      "outputs": []
    },
    {
      "cell_type": "code",
      "source": [
        "def clean_data(df):\n",
        "    \"\"\"Drop rows with missing values.\"\"\"\n",
        "    return df.dropna()\n"
      ],
      "metadata": {
        "id": "YaHeoPaKyNJn"
      },
      "execution_count": 3,
      "outputs": []
    },
    {
      "cell_type": "code",
      "source": [
        "def visualize_pairplot(df, features):\n",
        "    \"\"\"Generate pairplot for selected features.\"\"\"\n",
        "    sns.pairplot(df[features])\n",
        "plt.show()"
      ],
      "metadata": {
        "id": "h_ifnUueyOHH"
      },
      "execution_count": 4,
      "outputs": []
    },
    {
      "cell_type": "code",
      "source": [
        "def visualize_correlation_heatmap(df, features):\n",
        "    \"\"\"Generate correlation heatmap for selected features.\"\"\"\n",
        "    plt.figure(figsize=(10, 8))\n",
        "    correlation_matrix = df[features].corr()\n",
        "    sns.heatmap(correlation_matrix, annot=True, cmap='coolwarm')\n",
        "    plt.title('Correlation Heatmap of Selected Features')\n",
        "    plt.show()\n"
      ],
      "metadata": {
        "id": "3AMP64g-zI3g"
      },
      "execution_count": 5,
      "outputs": []
    },
    {
      "cell_type": "code",
      "source": [
        "def prepare_data(df, target_column, non_numeric_columns):\n",
        "    \"\"\"Separate features and target variable, and split data into train and test sets.\"\"\"\n",
        "    X = df.drop(non_numeric_columns + [target_column], axis=1)\n",
        "    y = df[target_column]\n",
        "    return train_test_split(X, y, test_size=0.2, random_state=42)\n"
      ],
      "metadata": {
        "id": "qXbuPZamzhou"
      },
      "execution_count": 6,
      "outputs": []
    },
    {
      "cell_type": "code",
      "source": [
        " def build_linear_regression_model(X_train, y_train):\n",
        "    \"\"\"Train Linear Regression model.\"\"\"\n",
        "    model = LinearRegression()\n",
        "    model.fit(X_train, y_train)\n",
        "    return model\n",
        "\n",
        "\n"
      ],
      "metadata": {
        "collapsed": true,
        "id": "BnpPBvmgYq35"
      },
      "execution_count": 12,
      "outputs": []
    },
    {
      "cell_type": "code",
      "source": [],
      "metadata": {
        "id": "RoAhVIUuYsBB"
      },
      "execution_count": null,
      "outputs": []
    },
    {
      "cell_type": "code",
      "source": [],
      "metadata": {
        "id": "RryLjHGlYsVv"
      },
      "execution_count": null,
      "outputs": []
    },
    {
      "cell_type": "code",
      "source": [],
      "metadata": {
        "id": "KDlpf_PmYsyK"
      },
      "execution_count": null,
      "outputs": []
    }
  ]
}