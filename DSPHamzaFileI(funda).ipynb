{
  "nbformat": 4,
  "nbformat_minor": 0,
  "metadata": {
    "colab": {
      "provenance": [],
      "authorship_tag": "ABX9TyOopF4w5AVxL3nZreqJVBtf",
      "include_colab_link": true
    },
    "kernelspec": {
      "name": "python3",
      "display_name": "Python 3"
    },
    "language_info": {
      "name": "python"
    }
  },
  "cells": [
    {
      "cell_type": "markdown",
      "metadata": {
        "id": "view-in-github",
        "colab_type": "text"
      },
      "source": [
        "<a href=\"https://colab.research.google.com/github/mn22abk/DSProjectHamza2024/blob/main/DSPHamzaFileI(funda).ipynb\" target=\"_parent\"><img src=\"https://colab.research.google.com/assets/colab-badge.svg\" alt=\"Open In Colab\"/></a>"
      ]
    },
    {
      "cell_type": "code",
      "execution_count": 1,
      "metadata": {
        "id": "Vqb_3ptgJrcp"
      },
      "outputs": [],
      "source": [
        "import pandas as pd\n",
        "import matplotlib.pyplot as plt\n",
        "import seaborn as sns\n",
        "from sklearn.model_selection import train_test_split\n",
        "from sklearn.linear_model import LinearRegression\n",
        "from sklearn.ensemble import RandomForestRegressor\n",
        "from sklearn.metrics import mean_squared_error\n"
      ]
    },
    {
      "cell_type": "code",
      "source": [
        "\n",
        "def load_data(file_path):\n",
        "    \"\"\"Load data from CSV file.\"\"\"\n",
        "    return pd.read_csv(file_path)"
      ],
      "metadata": {
        "id": "O2UTpjzfKDON"
      },
      "execution_count": 2,
      "outputs": []
    },
    {
      "cell_type": "code",
      "source": [
        "def clean_data(df):\n",
        "    \"\"\"Drop rows with missing values.\"\"\"\n",
        "    return df.dropna()\n"
      ],
      "metadata": {
        "id": "Bw80IhgMKDQz"
      },
      "execution_count": 3,
      "outputs": []
    },
    {
      "cell_type": "code",
      "source": [
        "def visualize_pairplot(df, features):\n",
        "    \"\"\"Generate pairplot for selected features.\"\"\"\n",
        "    sns.pairplot(df[features])\n",
        "    plt.show()\n"
      ],
      "metadata": {
        "id": "GcqLE06mKDTb"
      },
      "execution_count": 4,
      "outputs": []
    },
    {
      "cell_type": "code",
      "source": [
        "def visualize_correlation_heatmap(df, features):\n",
        "    \"\"\"Generate correlation heatmap for selected features.\"\"\"\n",
        "    plt.figure(figsize=(10, 8))\n",
        "    correlation_matrix = df[features].corr()\n",
        "    sns.heatmap(correlation_matrix, annot=True, cmap='coolwarm')\n",
        "    plt.title('Correlation Heatmap of Selected Features')\n",
        "    plt.show()"
      ],
      "metadata": {
        "id": "dIs01xW9KDWD"
      },
      "execution_count": 5,
      "outputs": []
    },
    {
      "cell_type": "code",
      "source": [],
      "metadata": {
        "id": "P1oLS96UKDZf"
      },
      "execution_count": null,
      "outputs": []
    }
  ]
}