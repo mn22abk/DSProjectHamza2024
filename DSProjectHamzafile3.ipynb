{
  "nbformat": 4,
  "nbformat_minor": 0,
  "metadata": {
    "colab": {
      "provenance": [],
      "authorship_tag": "ABX9TyNIAbSKropIXR5FYxC23ELS",
      "include_colab_link": true
    },
    "kernelspec": {
      "name": "python3",
      "display_name": "Python 3"
    },
    "language_info": {
      "name": "python"
    }
  },
  "cells": [
    {
      "cell_type": "markdown",
      "metadata": {
        "id": "view-in-github",
        "colab_type": "text"
      },
      "source": [
        "<a href=\"https://colab.research.google.com/github/mn22abk/DSProjectHamza2024/blob/main/DSProjectHamzafile3.ipynb\" target=\"_parent\"><img src=\"https://colab.research.google.com/assets/colab-badge.svg\" alt=\"Open In Colab\"/></a>"
      ]
    },
    {
      "cell_type": "code",
      "execution_count": 5,
      "metadata": {
        "id": "aw_d9UB7d0iJ"
      },
      "outputs": [],
      "source": [
        "import pandas as pd\n",
        "import matplotlib.pyplot as plt"
      ]
    },
    {
      "cell_type": "code",
      "source": [
        "# Load the CSV file\n",
        "prices_df = pd.read_csv('prices-split-adjusted.csv')"
      ],
      "metadata": {
        "id": "mBFfs_BHegn9"
      },
      "execution_count": 6,
      "outputs": []
    },
    {
      "cell_type": "code",
      "source": [
        "# Convert date column to datetime format\n",
        "prices_df['date'] = pd.to_datetime(prices_df['date'])"
      ],
      "metadata": {
        "id": "aRWCpJ4lfB4I"
      },
      "execution_count": 7,
      "outputs": []
    },
    {
      "cell_type": "code",
      "source": [
        "# Summary Statistics\n",
        "print(\"\\nSummary Statistics:\")\n",
        "print(prices_df.describe())"
      ],
      "metadata": {
        "colab": {
          "base_uri": "https://localhost:8080/"
        },
        "id": "WSChSNxffB6c",
        "outputId": "81e0ec08-1d0b-4a2e-bd92-b809f2b250f7"
      },
      "execution_count": 8,
      "outputs": [
        {
          "output_type": "stream",
          "name": "stdout",
          "text": [
            "\n",
            "Summary Statistics:\n",
            "                                date           open          close  \\\n",
            "count                         851264  851264.000000  851264.000000   \n",
            "mean   2013-07-21 02:56:29.294037760      64.993618      65.011913   \n",
            "min              2010-01-04 00:00:00       1.660000       1.590000   \n",
            "25%              2011-10-19 00:00:00      31.270000      31.292776   \n",
            "50%              2013-08-02 00:00:00      48.459999      48.480000   \n",
            "75%              2015-04-24 00:00:00      75.120003      75.139999   \n",
            "max              2016-12-30 00:00:00    1584.439941    1578.130005   \n",
            "std                              NaN      75.203893      75.201216   \n",
            "\n",
            "                 low           high        volume  \n",
            "count  851264.000000  851264.000000  8.512640e+05  \n",
            "mean       64.336541      65.639748  5.415113e+06  \n",
            "min         1.500000       1.810000  0.000000e+00  \n",
            "25%        30.940001      31.620001  1.221500e+06  \n",
            "50%        47.970001      48.959999  2.476250e+06  \n",
            "75%        74.400002      75.849998  5.222500e+06  \n",
            "max      1549.939941    1600.930054  8.596434e+08  \n",
            "std        74.459518      75.906861  1.249468e+07  \n"
          ]
        }
      ]
    },
    {
      "cell_type": "code",
      "source": [],
      "metadata": {
        "id": "JELkbi8nfB81"
      },
      "execution_count": null,
      "outputs": []
    },
    {
      "cell_type": "code",
      "source": [],
      "metadata": {
        "id": "Inu8DK-tfB_Q"
      },
      "execution_count": null,
      "outputs": []
    },
    {
      "cell_type": "code",
      "source": [],
      "metadata": {
        "id": "m58ad1PEfCCn"
      },
      "execution_count": null,
      "outputs": []
    }
  ]
}